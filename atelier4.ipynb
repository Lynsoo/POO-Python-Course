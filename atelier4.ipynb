{
 "cells": [
  {
   "cell_type": "code",
   "execution_count": 6,
   "id": "f1f9be0d",
   "metadata": {},
   "outputs": [],
   "source": [
    "with open(\"Table_de_multiplication.txt\", \"w+\") as file:\n",
    "    for x in range(1, 11):\n",
    "        file.write(f\"La table de multiplication de {x:02}:\\n\")\n",
    "        for y in range(1, 11):\n",
    "            file.write(f\"{x:02} x {y:02} = {x * y}\\n\")\n",
    "        file.write(\"\\n\")\n"
   ]
  }
 ],
 "metadata": {
  "kernelspec": {
   "display_name": "Python 3",
   "language": "python",
   "name": "python3"
  },
  "language_info": {
   "codemirror_mode": {
    "name": "ipython",
    "version": 3
   },
   "file_extension": ".py",
   "mimetype": "text/x-python",
   "name": "python",
   "nbconvert_exporter": "python",
   "pygments_lexer": "ipython3",
   "version": "3.13.5"
  }
 },
 "nbformat": 4,
 "nbformat_minor": 5
}
